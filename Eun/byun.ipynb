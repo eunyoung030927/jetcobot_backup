{
 "cells": [
  {
   "cell_type": "code",
   "execution_count": null,
   "id": "87dbaa59",
   "metadata": {},
   "outputs": [],
   "source": [
    "import rclpy\n",
    "from rclpy.node import Node\n",
    "from sensor_msgs.msg import JointState\n",
    "import math\n",
    "import time\n",
    "# 조인트로 보내는 코드 : 굳\n",
    "class JointStatePublisher(Node):\n",
    "    def __init__(self):\n",
    "        super().__init__('joint_state_publisher')\n",
    "        self.publisher_ = self.create_publisher(JointState, 'joint_states', 10)\n",
    "        self.joint_names = [\n",
    "            \"link2_to_link1\",\n",
    "            \"link3_to_link2\",\n",
    "            \"link4_to_link3\",\n",
    "            \"link5_to_link4\",\n",
    "            \"link6_to_link5\",\n",
    "            \"link6output_to_link6\"\n",
    "        ]\n",
    "    def publish_joint_positions(self, positions_rad):\n",
    "        msg = JointState()\n",
    "        msg.header.stamp = self.get_clock().now().to_msg()\n",
    "        msg.name = self.joint_names\n",
    "        msg.position = positions_rad\n",
    "        # velocity, effort는 필요에 따라 추가 가능\n",
    "        self.publisher_.publish(msg)\n",
    "        self.get_logger().info(f\"Published joint positions: {positions_rad}\")\n",
    "def main(args=None):\n",
    "    rclpy.init(args=args)\n",
    "    node = JointStatePublisher()\n",
    "    # 예시: 6개 관절 각도를 라디안으로 지정\n",
    "    goal_positions = [math.radians(0), math.radians(0), math.radians(0), 0.0, math.radians(0), 0.0]\n",
    "    try:\n",
    "        while rclpy.ok():\n",
    "            node.publish_joint_positions(goal_positions)\n",
    "            time.sleep(0.5)  # 0.5초마다 목표 관절값 퍼블리시\n",
    "    except KeyboardInterrupt:\n",
    "        pass\n",
    "    node.destroy_node()\n",
    "    rclpy.shutdown()\n",
    "if __name__ == '__main__':\n",
    "    main()"
   ]
  },
  {
   "cell_type": "code",
   "execution_count": 11,
   "id": "3d29a4db",
   "metadata": {},
   "outputs": [
    {
     "ename": "ValueError",
     "evalue": "could not broadcast input array from shape (4,4) into shape (3,)",
     "output_type": "error",
     "traceback": [
      "\u001b[0;31m---------------------------------------------------------------------------\u001b[0m",
      "\u001b[0;31mValueError\u001b[0m                                Traceback (most recent call last)",
      "Cell \u001b[0;32mIn[11], line 24\u001b[0m\n\u001b[1;32m     21\u001b[0m target_frame[:\u001b[38;5;241m3\u001b[39m, :\u001b[38;5;241m3\u001b[39m] \u001b[38;5;241m=\u001b[39m rot\n\u001b[1;32m     23\u001b[0m \u001b[38;5;66;03m# IK 계산\u001b[39;00m\n\u001b[0;32m---> 24\u001b[0m angles \u001b[38;5;241m=\u001b[39m \u001b[43mmy_chain\u001b[49m\u001b[38;5;241;43m.\u001b[39;49m\u001b[43minverse_kinematics\u001b[49m\u001b[43m(\u001b[49m\u001b[43mtarget_frame\u001b[49m\u001b[43m)\u001b[49m\n\u001b[1;32m     25\u001b[0m \u001b[38;5;28mprint\u001b[39m(\u001b[38;5;124m\"\u001b[39m\u001b[38;5;124mJoint angles (rad):\u001b[39m\u001b[38;5;124m\"\u001b[39m, angles)\n",
      "File \u001b[0;32m~/.local/lib/python3.12/site-packages/ikpy/chain.py:149\u001b[0m, in \u001b[0;36mChain.inverse_kinematics\u001b[0;34m(self, target_position, target_orientation, orientation_mode, **kwargs)\u001b[0m\n\u001b[1;32m    147\u001b[0m \u001b[38;5;28;01melse\u001b[39;00m:\n\u001b[1;32m    148\u001b[0m     no_position \u001b[38;5;241m=\u001b[39m \u001b[38;5;28;01mFalse\u001b[39;00m\n\u001b[0;32m--> 149\u001b[0m     \u001b[43mframe_target\u001b[49m\u001b[43m[\u001b[49m\u001b[43m:\u001b[49m\u001b[38;5;241;43m3\u001b[39;49m\u001b[43m,\u001b[49m\u001b[43m \u001b[49m\u001b[38;5;241;43m3\u001b[39;49m\u001b[43m]\u001b[49m \u001b[38;5;241m=\u001b[39m target_position\n\u001b[1;32m    151\u001b[0m \u001b[38;5;28;01mreturn\u001b[39;00m \u001b[38;5;28mself\u001b[39m\u001b[38;5;241m.\u001b[39minverse_kinematics_frame(target\u001b[38;5;241m=\u001b[39mframe_target, orientation_mode\u001b[38;5;241m=\u001b[39morientation_mode, no_position\u001b[38;5;241m=\u001b[39mno_position, \u001b[38;5;241m*\u001b[39m\u001b[38;5;241m*\u001b[39mkwargs)\n",
      "\u001b[0;31mValueError\u001b[0m: could not broadcast input array from shape (4,4) into shape (3,)"
     ]
    }
   ],
   "source": [
    "from ikpy.chain import Chain\n",
    "import numpy as np\n",
    "\n",
    "# URDF 파일 경로\n",
    "urdf_path = \"/home/jetcobot/colcon_ws/src/jetcobot/jetcobot_description/urdf/mycobot_280_m5/mycobot_280m5_with_gripper_parallel.urdf\"\n",
    "\n",
    "# base_elements를 실제 루트 링크 이름으로 지정\n",
    "my_chain = Chain.from_urdf_file(\n",
    "    urdf_path,\n",
    "    base_elements=[\"g_base\"]  # 루트 링크 이름을 URDF에 맞게 지정\n",
    ")\n",
    "\n",
    "# 목표 위치/자세 (4x4 변환행렬, 예시)\n",
    "target_frame = np.eye(4)\n",
    "target_frame[:3, 3] = [0.25, -0.10, 0.30]  # x, y, z 좌표 (미터 단위)\n",
    "\n",
    "# 회전(자세)까지 지정하려면 아래와 같이 RPY → 회전행렬 변환 후 적용\n",
    "import transforms3d\n",
    "rpy = [0, 1.57, 0]  # 예시: Y축 기준 90도 회전\n",
    "rot = transforms3d.euler.euler2mat(*rpy)\n",
    "target_frame[:3, :3] = rot\n",
    "\n",
    "# IK 계산\n",
    "angles = my_chain.inverse_kinematics(target_frame)\n",
    "print(\"Joint angles (rad):\", angles)\n"
   ]
  },
  {
   "cell_type": "code",
   "execution_count": 9,
   "id": "5dc44145",
   "metadata": {},
   "outputs": [
    {
     "name": "stdout",
     "output_type": "stream",
     "text": [
      "Joint angles (rad): [ 0.          1.18920435  0.09699977 -0.46038608 -0.45378746  0.09625048\n",
      " -0.19187801  0.41170164  0.          0.        ]\n"
     ]
    }
   ],
   "source": [
    "import numpy as np\n",
    "\n",
    "# 목표 위치\n",
    "target_position = [0.25, -0.10, 0.30]\n",
    "\n",
    "# 목표 자세: Y축 90도 회전 행렬 (3x3)\n",
    "c, s = np.cos(1.57), np.sin(1.57)\n",
    "rot = np.array([\n",
    "    [c, 0, s],\n",
    "    [0, 1, 0],\n",
    "    [-s, 0, c]\n",
    "])\n",
    "\n",
    "# IKPy에 올바르게 입력\n",
    "angles = my_chain.inverse_kinematics(\n",
    "    target_position,\n",
    "    target_orientation=rot\n",
    ")\n",
    "print(\"Joint angles (rad):\", angles)\n"
   ]
  },
  {
   "cell_type": "code",
   "execution_count": 10,
   "id": "dc86de6e",
   "metadata": {},
   "outputs": [
    {
     "data": {
      "text/plain": [
       "array([ 0.        ,  1.18920435,  0.09699977, -0.46038608, -0.45378746,\n",
       "        0.09625048, -0.19187801,  0.41170164,  0.        ,  0.        ])"
      ]
     },
     "execution_count": 10,
     "metadata": {},
     "output_type": "execute_result"
    }
   ],
   "source": [
    "angles"
   ]
  },
  {
   "cell_type": "code",
   "execution_count": 8,
   "id": "2691e65f",
   "metadata": {},
   "outputs": [
    {
     "data": {
      "text/plain": [
       "array([[ 7.96326711e-04,  0.00000000e+00,  9.99999683e-01,\n",
       "         2.50000000e-01],\n",
       "       [ 0.00000000e+00,  1.00000000e+00,  0.00000000e+00,\n",
       "        -1.00000000e-01],\n",
       "       [-9.99999683e-01,  0.00000000e+00,  7.96326711e-04,\n",
       "         3.00000000e-01],\n",
       "       [ 0.00000000e+00,  0.00000000e+00,  0.00000000e+00,\n",
       "         1.00000000e+00]])"
      ]
     },
     "execution_count": 8,
     "metadata": {},
     "output_type": "execute_result"
    }
   ],
   "source": [
    "target_frame"
   ]
  },
  {
   "cell_type": "code",
   "execution_count": 4,
   "id": "bf58de33",
   "metadata": {},
   "outputs": [],
   "source": [
    "# !pip install ikpy --break-system-packages"
   ]
  },
  {
   "cell_type": "code",
   "execution_count": 12,
   "id": "9d86b505",
   "metadata": {},
   "outputs": [],
   "source": [
    "import rclpy\n",
    "from rclpy.node import Node\n",
    "from geometry_msgs.msg import Pose\n",
    "from sensor_msgs.msg import JointState\n",
    "from ikpy.chain import Chain\n",
    "import numpy as np\n",
    "import time\n",
    "import transforms3d"
   ]
  },
  {
   "cell_type": "code",
   "execution_count": 13,
   "id": "957040f2",
   "metadata": {},
   "outputs": [
    {
     "data": {
      "text/plain": [
       "array([[ 1.11022302e-16,  0.00000000e+00,  1.00000000e+00],\n",
       "       [ 0.00000000e+00,  1.00000000e+00,  0.00000000e+00],\n",
       "       [-1.00000000e+00,  0.00000000e+00,  1.11022302e-16]])"
      ]
     },
     "execution_count": 13,
     "metadata": {},
     "output_type": "execute_result"
    }
   ],
   "source": [
    "quat = [0.7071, 0, 0.7071, 0]  # 예시 쿼터니언 (w, x, y, z)\n",
    "transforms3d.quaternions.quat2mat(quat)"
   ]
  }
 ],
 "metadata": {
  "kernelspec": {
   "display_name": "Python 3",
   "language": "python",
   "name": "python3"
  },
  "language_info": {
   "codemirror_mode": {
    "name": "ipython",
    "version": 3
   },
   "file_extension": ".py",
   "mimetype": "text/x-python",
   "name": "python",
   "nbconvert_exporter": "python",
   "pygments_lexer": "ipython3",
   "version": "3.12.3"
  }
 },
 "nbformat": 4,
 "nbformat_minor": 5
}
