{
 "cells": [
  {
   "cell_type": "code",
   "execution_count": 8,
   "id": "c11b0866",
   "metadata": {},
   "outputs": [
    {
     "name": "stdout",
     "output_type": "stream",
     "text": [
      "Chain.links 개수: 11\n",
      "Chain.links 이름: ['Base link', 'g_base_to_link1', 'link2_to_link1', 'link3_to_link2', 'link4_to_link3', 'link5_to_link4', 'link6_to_link5', 'link6output_to_link6', 'link6output_to_gripper_base', 'gripper_base_to_jetcocam', 'last_joint']\n",
      "입력 조인트 배열 길이: 11\n",
      "적용되는 조인트 각도 배열: [0.0, 0.0, 0.0, -0.1, -1.0, 0.3, 0.0, -0.6, 0.0, 0.0, 0.0]\n",
      "현재 TCP 위치 (FK 결과): [ 0.07006445 -0.05355742  0.46418098]\n",
      "목표 AprilTag 위치: [ 0.2  -0.05  0.15]\n",
      "TCP - AprilTag 위치 차이 (오프셋 보정 방향): [ 0.12993555  0.00355742 -0.31418098]\n",
      "보정 후 last_link_vector 제안값: [ 0.11303872  0.02334893 -0.54106193]\n"
     ]
    }
   ],
   "source": [
    "import numpy as np\n",
    "from ikpy.chain import Chain\n",
    "\n",
    "# URDF 경로\n",
    "URDF_PATH = \"/home/jetcobot/silver_ws/src/jetcobot_movetag/urdf/mycobot_280_m5/mycobot_280m5_with_gripper_parallel.urdf\"\n",
    "\n",
    "# last_link_vector(커스텀 오프셋) - 여기에 원하는 값 넣어서 반복 실험!\n",
    "last_link_vector = np.array([-0.01689683,  0.01979151, -0.22688095])\n",
    "\n",
    "# Chain 객체 생성\n",
    "chain = Chain.from_urdf_file(\n",
    "    URDF_PATH,\n",
    "    base_elements=[\"g_base\"],\n",
    "    last_link_vector=last_link_vector\n",
    ")\n",
    "\n",
    "# 실제 움직이는 조인트 이름과 각도(radian) 입력(예시값)\n",
    "joint_names = [\n",
    "    \"link2_to_link1\", \"link3_to_link2\", \"link4_to_link3\",\n",
    "    \"link5_to_link4\", \"link6_to_link5\", \"link6output_to_link6\"\n",
    "]\n",
    "joint_angles = [0.0, -0.1, -1.0, 0.3, 0.0, -0.6]  # 라디안 단위 예시값\n",
    "\n",
    "# Chain의 링크 이름 목록 확인\n",
    "print(\"Chain.links 개수:\", len(chain.links))\n",
    "print(\"Chain.links 이름:\", [link.name for link in chain.links])\n",
    "\n",
    "# 각 링크별로 조인트 값 매핑 (움직이는 것만 해당 각도를, 나머지는 0.0)\n",
    "joint_angle_dict = dict(zip(joint_names, joint_angles))\n",
    "all_joint_angles = [\n",
    "    joint_angle_dict.get(link.name, 0.0)\n",
    "    for link in chain.links\n",
    "]\n",
    "\n",
    "print(\"입력 조인트 배열 길이:\", len(all_joint_angles))\n",
    "print(\"적용되는 조인트 각도 배열:\", all_joint_angles)\n",
    "\n",
    "# Forward Kinematics 수행\n",
    "fk_matrix = chain.forward_kinematics(all_joint_angles)\n",
    "tcp_pos = fk_matrix[:3, 3]\n",
    "print(f\"현재 TCP 위치 (FK 결과): {tcp_pos}\")\n",
    "\n",
    "# 목표 에이프릴태그 위치 입력 (본인 환경에 맞게 수정)\n",
    "tag_pos = np.array([0.2, -0.05, 0.15])\n",
    "print(f\"목표 AprilTag 위치: {tag_pos}\")\n",
    "\n",
    "# 차이(오프셋) 계산\n",
    "diff = tag_pos - tcp_pos\n",
    "print(f\"TCP - AprilTag 위치 차이 (오프셋 보정 방향): {diff}\")\n",
    "\n",
    "# 새로운 예상 오프셋(제안)\n",
    "new_last_link_vector = last_link_vector + diff\n",
    "print(f\"보정 후 last_link_vector 제안값: {new_last_link_vector}\")\n"
   ]
  },
  {
   "cell_type": "code",
   "execution_count": 16,
   "id": "2736bbdb",
   "metadata": {},
   "outputs": [
    {
     "name": "stdout",
     "output_type": "stream",
     "text": [
      "IK 계산 결과(전체 link 기준): [ 0.          0.34900112 -0.12006466 -0.50033145 -0.52569531 -0.62615408\n",
      "  0.3930771   0.2441189   0.          0.          0.        ]\n",
      "IK 계산된 6개 주요 관절(rad): [-0.12006465533390176, -0.5003314525444249, -0.5256953064229652, -0.6261540805653011, 0.39307709835339855, 0.2441189009308075]\n",
      "FK 실제 TCP 위치: [ 0.19999999 -0.05        0.15000001]\n",
      "목표 위치: [ 0.2  -0.05  0.15]\n",
      "실제 TCP 위치: [ 0.19999999 -0.05        0.15000001]\n",
      "차이(오차): [ 1.09215620e-08 -3.05923227e-09 -6.32899536e-09]\n"
     ]
    }
   ],
   "source": [
    "import numpy as np\n",
    "from ikpy.chain import Chain\n",
    "\n",
    "# URDF 파일 경로\n",
    "URDF_PATH = \"/home/jetcobot/silver_ws/src/jetcobot_movetag/urdf/mycobot_280_m5/mycobot_280m5_with_gripper_parallel.urdf\"\n",
    "last_link_vector = np.array([0.0, 0.035, 0.048])  # 현재 사용중인 오프셋\n",
    "\n",
    "# IK Chain 생성\n",
    "chain = Chain.from_urdf_file(\n",
    "    URDF_PATH,\n",
    "    base_elements=[\"g_base\"],\n",
    "    last_link_vector=last_link_vector\n",
    ")\n",
    "\n",
    "# IK로 이동시킬 목표 위치(x, y, z) 입력 (에이프릴태그 좌표 등)\n",
    "target_pos = np.array([0.2, -0.05, 0.15])  # 원하는 목표 위치(m 단위)\n",
    "\n",
    "# 목표 자세(회전)는 생략하거나, 단위행렬(회전없음) 사용할 수도 있습니다.\n",
    "target_orientation = np.eye(3)  # 회전 없음\n",
    "\n",
    "# Inverse Kinematics로 조인트 각도 계산\n",
    "ik_result = chain.inverse_kinematics(\n",
    "    target_pos,\n",
    "    target_orientation=target_orientation\n",
    ")\n",
    "\n",
    "print(\"IK 계산 결과(전체 link 기준):\", ik_result)\n",
    "\n",
    "# 6개 주요 관절 값만 추출 (로봇별 조인트명 매칭 필요)\n",
    "joint_names = [\n",
    "    \"link2_to_link1\", \"link3_to_link2\", \"link4_to_link3\",\n",
    "    \"link5_to_link4\", \"link6_to_link5\", \"link6output_to_link6\"\n",
    "]\n",
    "radian_list = []\n",
    "for link in chain.links:\n",
    "    if link.name in joint_names:\n",
    "        idx = chain.links.index(link)\n",
    "        radian_list.append(ik_result[idx])\n",
    "\n",
    "print(\"IK 계산된 6개 주요 관절(rad):\", radian_list)\n",
    "\n",
    "# FK로 실제 이동된 TCP 위치 확인 (모든 link에 각도 배열 전달)\n",
    "all_joint_angles = ik_result  # chain.forward_kinematics 요구 형태임\n",
    "fk_matrix = chain.forward_kinematics(all_joint_angles)\n",
    "tcp_pos = fk_matrix[:3, 3]\n",
    "print(f\"FK 실제 TCP 위치: {tcp_pos}\")\n",
    "\n",
    "# 목표 위치와의 오차 출력\n",
    "print(\"목표 위치:\", target_pos)\n",
    "print(\"실제 TCP 위치:\", tcp_pos)\n",
    "print(\"차이(오차):\", target_pos - tcp_pos)\n"
   ]
  },
  {
   "cell_type": "markdown",
   "id": "03aad505",
   "metadata": {},
   "source": [
    "# 확인용"
   ]
  },
  {
   "cell_type": "code",
   "execution_count": 17,
   "id": "0ea3476f",
   "metadata": {},
   "outputs": [
    {
     "name": "stdout",
     "output_type": "stream",
     "text": [
      "IK 계산 결과(전체 link 기준): [ 0.          0.34900112 -0.12006466 -0.50033145 -0.52569531 -0.62615408\n",
      "  0.3930771   0.2441189   0.          0.          0.        ]\n"
     ]
    }
   ],
   "source": [
    "import numpy as np\n",
    "from ikpy.chain import Chain\n",
    "\n",
    "URDF_PATH = \"/home/jetcobot/silver_ws/src/jetcobot_movetag/urdf/mycobot_280_m5/mycobot_280m5_with_gripper_parallel.urdf\"\n",
    "last_link_vector = np.array([0.0, 0.035, 0.048])  # 오프셋\n",
    "\n",
    "chain = Chain.from_urdf_file(\n",
    "    URDF_PATH,\n",
    "    base_elements=[\"g_base\"],\n",
    "    last_link_vector=last_link_vector\n",
    ")\n",
    "\n",
    "target_pos = np.array([0.2, -0.05, 0.15])  # 목표 위치 입력\n",
    "target_orientation = np.eye(3)\n",
    "\n",
    "# Inverse Kinematics (IK)\n",
    "ik_result = chain.inverse_kinematics(\n",
    "    target_pos,\n",
    "    target_orientation=target_orientation\n",
    ")\n",
    "\n",
    "print(\"IK 계산 결과(전체 link 기준):\", ik_result)\n"
   ]
  },
  {
   "cell_type": "code",
   "execution_count": 18,
   "id": "7d14eac2",
   "metadata": {},
   "outputs": [
    {
     "name": "stdout",
     "output_type": "stream",
     "text": [
      "6개 주요 조인트(rad): [-0.12006465533390176, -0.5003314525444249, -0.5256953064229652, -0.6261540805653011, 0.39307709835339855, 0.2441189009308075]\n"
     ]
    }
   ],
   "source": [
    "joint_names = [\n",
    "    \"link2_to_link1\", \"link3_to_link2\", \"link4_to_link3\",\n",
    "    \"link5_to_link4\", \"link6_to_link5\", \"link6output_to_link6\"\n",
    "]\n",
    "radian_list = []\n",
    "for link in chain.links:\n",
    "    if link.name in joint_names:\n",
    "        idx = chain.links.index(link)\n",
    "        radian_list.append(ik_result[idx])\n",
    "\n",
    "print(\"6개 주요 조인트(rad):\", radian_list)\n"
   ]
  },
  {
   "cell_type": "code",
   "execution_count": 21,
   "id": "2b64652f",
   "metadata": {},
   "outputs": [
    {
     "name": "stdout",
     "output_type": "stream",
     "text": [
      "Note: This class is no longer maintained since v3.6.0, please refer to the project documentation: https://github.com/elephantrobotics/pymycobot/blob/main/README.md\n"
     ]
    },
    {
     "name": "stdout",
     "output_type": "stream",
     "text": [
      "로봇 측정 조인트(rad): [0.101, 0.88, -1.494, -0.471, 0.012, -0.775]\n",
      "실제 FK TCP 위치: [ 0.11153859 -0.05223847  0.20749738]\n"
     ]
    }
   ],
   "source": [
    "from pymycobot.mycobot import MyCobot\n",
    "mc = MyCobot(\"/dev/ttyJETCOBOT\", 1000000) # MyCobot 초기화\n",
    "real_angles = mc.get_radians()  # 실제 하드웨어에서 읽음\n",
    "print(\"로봇 측정 조인트(rad):\", real_angles)\n",
    "\n",
    "# 링크 이름 기준으로 매핑 (chain.links 순서와 실제 조인트 이름이 맞는지 확인)\n",
    "real_joint_dict = dict(zip(joint_names, real_angles))\n",
    "all_joint_angles = [\n",
    "    real_joint_dict.get(link.name, 0.0)\n",
    "    for link in chain.links\n",
    "]\n",
    "\n",
    "fk_matrix = chain.forward_kinematics(all_joint_angles)\n",
    "tcp_pos = fk_matrix[:3, 3]\n",
    "print(f\"실제 FK TCP 위치: {tcp_pos}\")\n"
   ]
  },
  {
   "cell_type": "code",
   "execution_count": 22,
   "id": "adf1cee7",
   "metadata": {},
   "outputs": [
    {
     "name": "stdout",
     "output_type": "stream",
     "text": [
      "목표 위치: [ 0.2  -0.05  0.15]\n",
      "실제 TCP 위치: [ 0.11153859 -0.05223847  0.20749738]\n",
      "차이(오차): [ 0.08846141  0.00223847 -0.05749738]\n"
     ]
    }
   ],
   "source": [
    "print(\"목표 위치:\", target_pos)\n",
    "print(\"실제 TCP 위치:\", tcp_pos)\n",
    "print(\"차이(오차):\", target_pos - tcp_pos)\n"
   ]
  },
  {
   "cell_type": "markdown",
   "id": "b7006617",
   "metadata": {},
   "source": [
    "# 실제 로봇 조인트와 FK 위치, 오차 확인\n"
   ]
  },
  {
   "cell_type": "code",
   "execution_count": 23,
   "id": "98763559",
   "metadata": {},
   "outputs": [
    {
     "name": "stdout",
     "output_type": "stream",
     "text": [
      "Note: This class is no longer maintained since v3.6.0, please refer to the project documentation: https://github.com/elephantrobotics/pymycobot/blob/main/README.md\n",
      "실제로 움직인 후 측정된 조인트(rad): [-0.107, -0.515, -0.548, -0.644, 0.373, 0.23]\n",
      "실제 조인트값 기준 FK로 계산된 TCP 위치: [ 0.19652779 -0.04932797  0.14179198]\n",
      "목표 위치: [ 0.2  -0.05  0.15]\n",
      "실제 TCP 위치: [ 0.19652779 -0.04932797  0.14179198]\n",
      "차이(오차, m): [ 0.00347221 -0.00067203  0.00820802]\n"
     ]
    }
   ],
   "source": [
    "import numpy as np\n",
    "from ikpy.chain import Chain\n",
    "from pymycobot.mycobot import MyCobot\n",
    "import math\n",
    "import time\n",
    "\n",
    "# 1. 체인 및 URDF 설정\n",
    "URDF_PATH = \"/home/jetcobot/silver_ws/src/jetcobot_movetag/urdf/mycobot_280_m5/mycobot_280m5_with_gripper_parallel.urdf\"\n",
    "last_link_vector = np.array([0.0, 0.035, 0.048])\n",
    "chain = Chain.from_urdf_file(URDF_PATH, base_elements=[\"g_base\"], last_link_vector=last_link_vector)\n",
    "\n",
    "joint_names = [\n",
    "    \"link2_to_link1\", \"link3_to_link2\", \"link4_to_link3\",\n",
    "    \"link5_to_link4\", \"link6_to_link5\", \"link6output_to_link6\"\n",
    "]\n",
    "\n",
    "# 2. 목표 위치 입력\n",
    "target_pos = np.array([0.2, -0.05, 0.15])\n",
    "target_orientation = np.eye(3)\n",
    "\n",
    "# 3. IK로 조인트 각도 계산\n",
    "ik_result = chain.inverse_kinematics(target_pos, target_orientation=target_orientation)\n",
    "\n",
    "# 6개 메인 조인트 값만 추출\n",
    "radian_list = []\n",
    "for link in chain.links:\n",
    "    if link.name in joint_names:\n",
    "        idx = chain.links.index(link)\n",
    "        radian_list.append(ik_result[idx])\n",
    "\n",
    "# 4. 실제 로봇 제어기 초기화 및 이동 명령\n",
    "mc = MyCobot(\"/dev/ttyJETCOBOT\", 1000000)\n",
    "degree_list = [math.degrees(rad) for rad in radian_list]\n",
    "mc.send_angles(degree_list, 50, _async=True)\n",
    "time.sleep(3)  # 이동 대기\n",
    "\n",
    "# 5. 이동 후 get_radians()로 실제 로봇 각도 읽기\n",
    "real_angles = mc.get_radians()\n",
    "print(\"실제로 움직인 후 측정된 조인트(rad):\", real_angles)\n",
    "\n",
    "# 6. 실측 조인트 각도와 체인 링크 순서 매핑\n",
    "real_joint_dict = dict(zip(joint_names, real_angles))\n",
    "all_joint_angles = [\n",
    "    real_joint_dict.get(link.name, 0.0)\n",
    "    for link in chain.links\n",
    "]\n",
    "\n",
    "# 7. FK로 현재 TCP 위치 계산\n",
    "fk_matrix = chain.forward_kinematics(all_joint_angles)\n",
    "tcp_pos = fk_matrix[:3, 3]\n",
    "print(\"실제 조인트값 기준 FK로 계산된 TCP 위치:\", tcp_pos)\n",
    "\n",
    "# 8. 목표 위치와 오차 출력\n",
    "print(\"목표 위치:\", target_pos)\n",
    "print(\"실제 TCP 위치:\", tcp_pos)\n",
    "print(\"차이(오차, m):\", target_pos - tcp_pos)\n"
   ]
  },
  {
   "cell_type": "code",
   "execution_count": 25,
   "id": "46f4a260",
   "metadata": {},
   "outputs": [
    {
     "name": "stdout",
     "output_type": "stream",
     "text": [
      "실로봇 get_coords() 위치 (mm): [198.5 -68.2 219.1]\n",
      "FK 계산 위치 (mm):             [196.52779 -49.32797 141.79198]\n",
      "목표 위치 (mm):               [200. -50. 150.]\n",
      "FK 기반 오차 (mm):            [ 3.47221 -0.67203  8.20802]\n",
      "실로봇 실제 오차 (mm):         [  1.5  18.2 -69.1]\n"
     ]
    }
   ],
   "source": [
    "import numpy as np\n",
    "\n",
    "# (1) 실로봇 값 (mm 단위 → m 단위 변환 필요시 / 1000)\n",
    "robot_tcp_mm = np.array([198.5, -68.2, 219.1])  # rx, ry, rz 제외\n",
    "\n",
    "# (2) FK 계산 위치 (m 단위 → mm 단위로 변환)\n",
    "fk_tcp_m = np.array([0.19652779, -0.04932797, 0.14179198])\n",
    "fk_tcp_mm = fk_tcp_m * 1000\n",
    "\n",
    "# (3) 목표 위치 (m 단위 → mm 단위로 변환)\n",
    "target_pos_m = np.array([0.2, -0.05, 0.15])\n",
    "target_pos_mm = target_pos_m * 1000\n",
    "\n",
    "# (4) 오차 직접 계산\n",
    "fk_diff_mm = target_pos_mm - fk_tcp_mm\n",
    "real_diff_mm = target_pos_mm - robot_tcp_mm\n",
    "\n",
    "print(\"실로봇 get_coords() 위치 (mm):\", robot_tcp_mm)\n",
    "print(\"FK 계산 위치 (mm):            \", fk_tcp_mm)\n",
    "print(\"목표 위치 (mm):              \", target_pos_mm)\n",
    "print(\"FK 기반 오차 (mm):           \", fk_diff_mm)\n",
    "print(\"실로봇 실제 오차 (mm):        \", real_diff_mm)\n"
   ]
  },
  {
   "cell_type": "code",
   "execution_count": null,
   "id": "23abdd7c",
   "metadata": {},
   "outputs": [
    {
     "name": "stdout",
     "output_type": "stream",
     "text": [
      "Note: This class is no longer maintained since v3.6.0, please refer to the project documentation: https://github.com/elephantrobotics/pymycobot/blob/main/README.md\n",
      "로봇 엔드이펙터(TCP) 실베위치: [198.5, -68.2, 219.1, 166.86, 18.76, -112.91]\n"
     ]
    }
   ],
   "source": [
    "from pymycobot.mycobot import MyCobot\n",
    "\n",
    "mc = MyCobot(\"/dev/ttyJETCOBOT\", 1000000)\n",
    "coords = mc.get_coords()\n",
    "print(\"로봇 엔드이펙터(TCP) 실제위치:\", coords)\n"
   ]
  },
  {
   "cell_type": "markdown",
   "id": "6f72c3c9",
   "metadata": {},
   "source": [
    "# 최종 테스트 코드\n"
   ]
  },
  {
   "cell_type": "code",
   "execution_count": null,
   "id": "ef3a4cd3",
   "metadata": {},
   "outputs": [
    {
     "name": "stderr",
     "output_type": "stream",
     "text": [
      "/home/jetcobot/.local/lib/python3.12/site-packages/ikpy/urdf/URDF.py:261: UserWarning: Joint g_base_to_link1 is of type: fixed, but has an 'axis' attribute defined. This is not in the URDF spec and thus this axis is ignored\n",
      "  warnings.warn(\"Joint {} is of type: fixed, but has an 'axis' attribute defined. This is not in the URDF spec and thus this axis is ignored\".format(joint.attrib[\"name\"]))\n",
      "/home/jetcobot/.local/lib/python3.12/site-packages/ikpy/chain.py:60: UserWarning: Link Base link (index: 0) is of type 'fixed' but set as active in the active_links_mask. In practice, this fixed link doesn't provide any transformation so is as it were inactive\n",
      "  warnings.warn(\"Link {} (index: {}) is of type 'fixed' but set as active in the active_links_mask. In practice, this fixed link doesn't provide any transformation so is as it were inactive\".format(link.name, link_index))\n",
      "/home/jetcobot/.local/lib/python3.12/site-packages/ikpy/chain.py:60: UserWarning: Link g_base_to_link1 (index: 1) is of type 'fixed' but set as active in the active_links_mask. In practice, this fixed link doesn't provide any transformation so is as it were inactive\n",
      "  warnings.warn(\"Link {} (index: {}) is of type 'fixed' but set as active in the active_links_mask. In practice, this fixed link doesn't provide any transformation so is as it were inactive\".format(link.name, link_index))\n",
      "/home/jetcobot/.local/lib/python3.12/site-packages/ikpy/chain.py:60: UserWarning: Link link6output_to_gripper_base (index: 8) is of type 'fixed' but set as active in the active_links_mask. In practice, this fixed link doesn't provide any transformation so is as it were inactive\n",
      "  warnings.warn(\"Link {} (index: {}) is of type 'fixed' but set as active in the active_links_mask. In practice, this fixed link doesn't provide any transformation so is as it were inactive\".format(link.name, link_index))\n",
      "/home/jetcobot/.local/lib/python3.12/site-packages/ikpy/chain.py:60: UserWarning: Link gripper_base_to_jetcocam (index: 9) is of type 'fixed' but set as active in the active_links_mask. In practice, this fixed link doesn't provide any transformation so is as it were inactive\n",
      "  warnings.warn(\"Link {} (index: {}) is of type 'fixed' but set as active in the active_links_mask. In practice, this fixed link doesn't provide any transformation so is as it were inactive\".format(link.name, link_index))\n",
      "/home/jetcobot/.local/lib/python3.12/site-packages/ikpy/chain.py:60: UserWarning: Link last_joint (index: 10) is of type 'fixed' but set as active in the active_links_mask. In practice, this fixed link doesn't provide any transformation so is as it were inactive\n",
      "  warnings.warn(\"Link {} (index: {}) is of type 'fixed' but set as active in the active_links_mask. In practice, this fixed link doesn't provide any transformation so is as it were inactive\".format(link.name, link_index))\n"
     ]
    },
    {
     "name": "stdout",
     "output_type": "stream",
     "text": [
      "Note: This class is no longer maintained since v3.6.0, please refer to the project documentation: https://github.com/elephantrobotics/pymycobot/blob/main/README.md\n"
     ]
    }
   ],
   "source": [
    "import numpy as np\n",
    "from ikpy.chain import Chain\n",
    "from pymycobot.mycobot import MyCobot\n",
    "import math\n",
    "import time\n",
    "\n",
    "# 1. URDF 및 IK Chain 설정\n",
    "URDF_PATH = \"/home/jetcobot/silver_ws/src/jetcobot_movetag/urdf/mycobot_280_m5/mycobot_280m5_with_gripper_parallel.urdf\"\n",
    "# last_link_vector = np.array([0.0, 0.035, 0.0155])\n",
    "last_link_vector = np.array([0.0462, 0.0252, 0.0129])\n",
    "chain = Chain.from_urdf_file(URDF_PATH, base_elements=[\"g_base\"], last_link_vector=last_link_vector)\n",
    "\n",
    "joint_names = [\n",
    "    \"link2_to_link1\", \"link3_to_link2\", \"link4_to_link3\",\n",
    "    \"link5_to_link4\", \"link6_to_link5\", \"link6output_to_link6\"\n",
    "]\n",
    "\n",
    "# 2. 목표 위치 및 자세 입력\n",
    "# target_pos = np.array([0.2, -0.05, 0.15])  # m 단위\n",
    "target_pos = np.array([0.048, -0.0643, 0.4107])  # m 단위\n",
    "target_orientation = np.eye(3)\n",
    "\n",
    "# 3. IK로 조인트 각도 계산\n",
    "ik_result = chain.inverse_kinematics(target_pos, target_orientation=target_orientation)\n",
    "\n",
    "# 4. 6개 주요 조인트 값 추출\n",
    "radian_list = []\n",
    "for link in chain.links:\n",
    "    if link.name in joint_names:\n",
    "        idx = chain.links.index(link)\n",
    "        radian_list.append(ik_result[idx])\n",
    "\n",
    "# 5. 실제 로봇 이동\n",
    "mc = MyCobot(\"/dev/ttyJETCOBOT\", 1000000)\n",
    "degree_list = [math.degrees(rad) for rad in radian_list]\n",
    "mc.send_angles(degree_list, 5, _async=True)\n",
    "time.sleep(3)  # 로봇 이동 대기\n",
    "\n",
    "# 6. 이동 후 실제 로봇 조인트 읽기 및 FK 위치 계산\n",
    "real_angles = mc.get_radians()\n",
    "real_joint_dict = dict(zip(joint_names, real_angles))\n",
    "all_joint_angles = [real_joint_dict.get(link.name, 0.0) for link in chain.links]\n",
    "fk_matrix = chain.forward_kinematics(all_joint_angles)\n",
    "tcp_pos_fk = fk_matrix[:3, 3]\n",
    "\n",
    "# 7. 실제 로봇의 엔드이펙터 위치 읽기\n",
    "coords = mc.get_coords()  # [x, y, z, rx, ry, rz] (mm, deg)\n",
    "robot_tcp_mm = np.array(coords[:3])\n"
   ]
  },
  {
   "cell_type": "code",
   "execution_count": 6,
   "id": "0ae47e19",
   "metadata": {},
   "outputs": [
    {
     "name": "stdout",
     "output_type": "stream",
     "text": [
      "--- 통합 실험 결과 (모든 좌표 mm 단위) ---\n",
      "목표 위치:                      [ 0.048  -0.0643  0.4107]\n",
      "FK 계산 위치:                   [ 0.24067245 -0.14481382  0.2495779 ]\n",
      "실로봇 엔드이펙터 실제 위치:     [-31.  -41.8 408.9]\n",
      "FK 기반 오차(목표-FK):           [-192.67245214   80.5138211   161.12210077]\n",
      "실로봇 실제 오차(목표-실제):      [-132.7   69.8  108.7]\n",
      "   목표 위치 (mm)  FK 계산 위치 (mm)  실로봇 위치 (mm)  FK 오차 (mm)  실로봇 오차 (mm)\n",
      "x        48.0     240.672452        -31.0 -192.672452       -132.7\n",
      "y       -64.3    -144.813821        -41.8   80.513821         69.8\n",
      "z       410.7     249.577899        408.9  161.122101        108.7\n"
     ]
    }
   ],
   "source": [
    "# 10. 결과 출력\n",
    "print(\"--- 통합 실험 결과 (모든 좌표 mm 단위) ---\")\n",
    "print(f\"목표 위치:                      {target_pos}\")\n",
    "print(f\"FK 계산 위치:                   {tcp_pos_fk}\")\n",
    "print(f\"실로봇 엔드이펙터 실제 위치:     {robot_tcp_mm}\")\n",
    "print(f\"FK 기반 오차(목표-FK):           {fk_diff_mm}\")\n",
    "print(f\"실로봇 실제 오차(목표-실제):      {real_diff_mm}\")\n",
    "\n",
    "# 표로 보기 쉽도록 정리\n",
    "import pandas as pd\n",
    "df = pd.DataFrame({\n",
    "    \"목표 위치 (mm)\": target_pos_mm,\n",
    "    \"FK 계산 위치 (mm)\": tcp_pos_fk_mm,\n",
    "    \"실로봇 위치 (mm)\": robot_tcp_mm,\n",
    "    \"FK 오차 (mm)\": fk_diff_mm,\n",
    "    \"실로봇 오차 (mm)\": real_diff_mm\n",
    "}, index=[\"x\", \"y\", \"z\"])\n",
    "print(df)\n"
   ]
  },
  {
   "cell_type": "code",
   "execution_count": 48,
   "id": "ef8956a8",
   "metadata": {},
   "outputs": [
    {
     "name": "stderr",
     "output_type": "stream",
     "text": [
      "/home/jetcobot/.local/lib/python3.12/site-packages/ikpy/urdf/URDF.py:261: UserWarning: Joint g_base_to_link1 is of type: fixed, but has an 'axis' attribute defined. This is not in the URDF spec and thus this axis is ignored\n",
      "  warnings.warn(\"Joint {} is of type: fixed, but has an 'axis' attribute defined. This is not in the URDF spec and thus this axis is ignored\".format(joint.attrib[\"name\"]))\n",
      "/home/jetcobot/.local/lib/python3.12/site-packages/ikpy/chain.py:60: UserWarning: Link Base link (index: 0) is of type 'fixed' but set as active in the active_links_mask. In practice, this fixed link doesn't provide any transformation so is as it were inactive\n",
      "  warnings.warn(\"Link {} (index: {}) is of type 'fixed' but set as active in the active_links_mask. In practice, this fixed link doesn't provide any transformation so is as it were inactive\".format(link.name, link_index))\n",
      "/home/jetcobot/.local/lib/python3.12/site-packages/ikpy/chain.py:60: UserWarning: Link g_base_to_link1 (index: 1) is of type 'fixed' but set as active in the active_links_mask. In practice, this fixed link doesn't provide any transformation so is as it were inactive\n",
      "  warnings.warn(\"Link {} (index: {}) is of type 'fixed' but set as active in the active_links_mask. In practice, this fixed link doesn't provide any transformation so is as it were inactive\".format(link.name, link_index))\n",
      "/home/jetcobot/.local/lib/python3.12/site-packages/ikpy/chain.py:60: UserWarning: Link link6output_to_gripper_base (index: 8) is of type 'fixed' but set as active in the active_links_mask. In practice, this fixed link doesn't provide any transformation so is as it were inactive\n",
      "  warnings.warn(\"Link {} (index: {}) is of type 'fixed' but set as active in the active_links_mask. In practice, this fixed link doesn't provide any transformation so is as it were inactive\".format(link.name, link_index))\n",
      "/home/jetcobot/.local/lib/python3.12/site-packages/ikpy/chain.py:60: UserWarning: Link gripper_base_to_jetcocam (index: 9) is of type 'fixed' but set as active in the active_links_mask. In practice, this fixed link doesn't provide any transformation so is as it were inactive\n",
      "  warnings.warn(\"Link {} (index: {}) is of type 'fixed' but set as active in the active_links_mask. In practice, this fixed link doesn't provide any transformation so is as it were inactive\".format(link.name, link_index))\n",
      "/home/jetcobot/.local/lib/python3.12/site-packages/ikpy/chain.py:60: UserWarning: Link last_joint (index: 10) is of type 'fixed' but set as active in the active_links_mask. In practice, this fixed link doesn't provide any transformation so is as it were inactive\n",
      "  warnings.warn(\"Link {} (index: {}) is of type 'fixed' but set as active in the active_links_mask. In practice, this fixed link doesn't provide any transformation so is as it were inactive\".format(link.name, link_index))\n"
     ]
    },
    {
     "name": "stdout",
     "output_type": "stream",
     "text": [
      "FK 예상 TCP 위치(이동 전): [ 48.  -64.3 410.7]\n",
      "Note: This class is no longer maintained since v3.6.0, please refer to the project documentation: https://github.com/elephantrobotics/pymycobot/blob/main/README.md\n"
     ]
    }
   ],
   "source": [
    "import numpy as np\n",
    "from ikpy.chain import Chain\n",
    "import math\n",
    "import time\n",
    "from pymycobot.mycobot import MyCobot\n",
    "\n",
    "URDF_PATH = \"/home/jetcobot/silver_ws/src/jetcobot_movetag/urdf/mycobot_280_m5/mycobot_280m5_with_gripper_parallel.urdf\"\n",
    "last_link_vector = np.array([0.0, 0.035, 0.0248])  # 예시 오프셋, 실제 실험에 맞게\n",
    "# [0.1171, 0.0155, 0.0044]\n",
    "# last_link_vector = np.array([0.0, 0.035, 0.0155])\n",
    "# last_link_vector = np.array([0.0462, 0.0252, 0.0129])\n",
    "chain = Chain.from_urdf_file(URDF_PATH, base_elements=[\"g_base\"], last_link_vector=last_link_vector)\n",
    "\n",
    "joint_names = [\n",
    "    \"link2_to_link1\", \"link3_to_link2\", \"link4_to_link3\",\n",
    "    \"link5_to_link4\", \"link6_to_link5\", \"link6output_to_link6\"\n",
    "]\n",
    "\n",
    "target_pos = np.array([0.048, -0.0643, 0.4107])   # m 단위\n",
    "# target_pos = np.array([0.2, -0.05, 0.15])  # m 단위\n",
    "\n",
    "target_orientation = np.eye(3)\n",
    "ik_result = chain.inverse_kinematics(target_pos, target_orientation=target_orientation) # IK로 각도 계산\n",
    "\n",
    "# 1. 올바른 all_joint_angles 생성 (chain.links와 정확하게 mapping)\n",
    "joint_map = {ln: ik_result[i] for i, ln in enumerate([link.name for link in chain.links])}\n",
    "real_joint_dict = {name: ik_result[[link.name for link in chain.links].index(name)] for name in joint_names}\n",
    "all_joint_angles = [joint_map[link.name] for link in chain.links]\n",
    "\n",
    "# 2. radian_list = 주요 6개 조인트\n",
    "radian_list = [real_joint_dict[name] for name in joint_names]\n",
    "\n",
    "# 3. FK 예상값(이동 전, IK 결과)\n",
    "fk_matrix = chain.forward_kinematics(all_joint_angles)\n",
    "tcp_pos_fk = fk_matrix[:3, 3]\n",
    "\n",
    "print(\"FK 예상 TCP 위치(이동 전):\", tcp_pos_fk * 1000)  # mm 단위로 출력\n",
    "\n",
    "# 4. 실제 로봇 이동\n",
    "mc = MyCobot(\"/dev/ttyJETCOBOT\", 1000000)\n",
    "degree_list = [math.degrees(rad) for rad in radian_list]\n",
    "mc.send_angles(degree_list, 5, _async=True)\n",
    "time.sleep(3)\n",
    "\n",
    "# 5. 로봇 도착 후 실제 조인트·실물 위치 측정\n",
    "real_angles = mc.get_radians()\n",
    "coords = mc.get_coords()\n",
    "robot_tcp_mm = np.array(coords[:3])"
   ]
  },
  {
   "cell_type": "code",
   "execution_count": 49,
   "id": "43fbcc47",
   "metadata": {},
   "outputs": [
    {
     "name": "stdout",
     "output_type": "stream",
     "text": [
      "--------------------------------------------------\n",
      "           [로봇 위치 정밀도 실험 결과]\n",
      "--------------------------------------------------\n",
      "목표 위치 (mm):           [ 48.  -64.3 410.7]\n",
      "FK 예측 위치 (mm):        [ 48.  -64.3 410.7]\n",
      "실로봇 위치 (mm):         [-24.2 -45.7 413.2]\n",
      "--------------------------------------------------\n",
      "FK 오차 (목표-FK, mm):    [-0. -0.  0.]\n",
      "실측 오차 (목표-실제, mm): [ 72.2 -18.6  -2.5]\n",
      "--------------------------------------------------\n",
      "\n",
      "[축별 구체값 비교]\n",
      "\n",
      "   Target (mm)  FK Pred (mm)  Robot (mm)  FK Err (mm)  Real Err (mm)\n",
      "x         48.0          48.0       -24.2         -0.0           72.2\n",
      "y        -64.3         -64.3       -45.7         -0.0          -18.6\n",
      "z        410.7         410.7       413.2          0.0           -2.5\n"
     ]
    }
   ],
   "source": [
    "import numpy as np\n",
    "import pandas as pd\n",
    "\n",
    "# 1. 단위 변환\n",
    "tcp_pos_fk_mm = tcp_pos_fk * 1000               # FK 예측 위치 (mm)\n",
    "target_pos_mm = target_pos * 1000               # 목표 위치 (mm)\n",
    "robot_tcp_mm = np.array(coords[:3])             # 실로봇 위치 (mm)\n",
    "\n",
    "# 2. 오차 계산\n",
    "fk_diff_mm = target_pos_mm - tcp_pos_fk_mm      # FK 오차 (목표 - FK 모델)\n",
    "real_diff_mm = target_pos_mm - robot_tcp_mm     # 실측 오차 (목표 - 실로봇)\n",
    "\n",
    "# 3. 출력 및 표\n",
    "separator = \"-\" * 50\n",
    "print(separator)\n",
    "print(\"           [로봇 위치 정밀도 실험 결과]\")\n",
    "print(separator)\n",
    "print(f\"목표 위치 (mm):           {target_pos_mm.round(3)}\")\n",
    "print(f\"FK 예측 위치 (mm):        {tcp_pos_fk_mm.round(3)}\")\n",
    "print(f\"실로봇 위치 (mm):         {robot_tcp_mm.round(3)}\")\n",
    "print(separator)\n",
    "print(f\"FK 오차 (목표-FK, mm):    {fk_diff_mm.round(3)}\")\n",
    "print(f\"실측 오차 (목표-실제, mm): {real_diff_mm.round(3)}\")\n",
    "print(separator)\n",
    "\n",
    "# 4. 데이터프레임 표\n",
    "df = pd.DataFrame({\n",
    "    \"Target (mm)\": target_pos_mm.round(3),\n",
    "    \"FK Pred (mm)\": tcp_pos_fk_mm.round(3),\n",
    "    \"Robot (mm)\": robot_tcp_mm.round(3),\n",
    "    \"FK Err (mm)\": fk_diff_mm.round(3),\n",
    "    \"Real Err (mm)\": real_diff_mm.round(3)\n",
    "}, index=[\"x\", \"y\", \"z\"])\n",
    "print(\"\\n[축별 구체값 비교]\\n\")\n",
    "print(df)\n"
   ]
  },
  {
   "cell_type": "code",
   "execution_count": 32,
   "id": "a3eb0230",
   "metadata": {},
   "outputs": [
    {
     "data": {
      "text/plain": [
       "[-0.106, -0.512, -0.537, -0.644, 0.373, 0.23]"
      ]
     },
     "execution_count": 32,
     "metadata": {},
     "output_type": "execute_result"
    }
   ],
   "source": [
    "mc.get_radians()"
   ]
  }
 ],
 "metadata": {
  "kernelspec": {
   "display_name": "Python 3",
   "language": "python",
   "name": "python3"
  },
  "language_info": {
   "codemirror_mode": {
    "name": "ipython",
    "version": 3
   },
   "file_extension": ".py",
   "mimetype": "text/x-python",
   "name": "python",
   "nbconvert_exporter": "python",
   "pygments_lexer": "ipython3",
   "version": "3.12.3"
  }
 },
 "nbformat": 4,
 "nbformat_minor": 5
}
