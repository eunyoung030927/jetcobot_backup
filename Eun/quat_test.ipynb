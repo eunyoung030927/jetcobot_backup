{
 "cells": [
  {
   "cell_type": "code",
   "execution_count": 3,
   "id": "1de66a13",
   "metadata": {},
   "outputs": [],
   "source": [
    "# !pip install transforms3d --break-system-packages"
   ]
  },
  {
   "cell_type": "code",
   "execution_count": 6,
   "id": "4540a7ca",
   "metadata": {},
   "outputs": [],
   "source": [
    "import numpy as np\n",
    "import transforms3d\n",
    "from geometry_msgs.msg import Pose\n",
    "import rclpy\n",
    "from rclpy.node import Node\n",
    "from geometry_msgs.msg import Pose\n",
    "from sensor_msgs.msg import JointState\n",
    "from ikpy.chain import Chain\n",
    "import numpy as np\n",
    "import time\n",
    "import transforms3d"
   ]
  },
  {
   "cell_type": "code",
   "execution_count": null,
   "id": "f5493b49",
   "metadata": {},
   "outputs": [],
   "source": [
    "\n",
    "def apriltag_to_pose(r):\n",
    "    t = r.pose_t.flatten()           # 태그의 위치 벡터 [x, y, z]\n",
    "    R = r.pose_R                     # 태그의 회전 행렬 (3x3)\n",
    "\n",
    "    # transforms3d의 mat2quat 함수는 (w, x, y, z) 순서로 반환합니다.\n",
    "    quat_wxyz = transforms3d.quaternions.mat2quat(R)\n",
    "    # ROS Pose 메시지는 (x, y, z, w) 순서이므로 변환 필요\n",
    "    quat = [quat_wxyz[1], quat_wxyz[2], quat_wxyz[3], quat_wxyz[0]]\n",
    "\n",
    "    pose = Pose()\n",
    "    pose.position.x = t[0]\n",
    "    pose.position.y = t[1]\n",
    "    pose.position.z = t[2]\n",
    "    pose.orientation.x = quat[0]\n",
    "    pose.orientation.y = quat[1]\n",
    "    pose.orientation.z = quat[2]\n",
    "    pose.orientation.w = quat[3]\n",
    "    return pose\n"
   ]
  },
  {
   "cell_type": "code",
   "execution_count": null,
   "id": "68b22bf8",
   "metadata": {},
   "outputs": [
    {
     "name": "stdout",
     "output_type": "stream",
     "text": [
      "Position (t):\n",
      "x = 0.100, y = 0.200, z = 0.300\n",
      "\n",
      "Quaternion (x, y, z, w):\n",
      "x = 0.0000\n",
      "y = 0.0000\n",
      "z = 0.7071\n",
      "w = 0.7071\n"
     ]
    }
   ],
   "source": [
    "\n",
    "# 예시: AprilTag 검출 결과에서 얻은 회전행렬(R)과 위치벡터(t)\n",
    "R = np.array([\n",
    "    [0, -1, 0],\n",
    "    [1,  0, 0],\n",
    "    [0,  0, 1]\n",
    "])\n",
    "t = np.array([0.1, 0.2, 0.3])\n",
    "\n",
    "# 회전행렬을 쿼터니언으로 변환 (transforms3d는 (w, x, y, z) 순서로 반환)\n",
    "quat_wxyz = transforms3d.quaternions.mat2quat(R)\n",
    "# ROS Pose 메시지와 동일하게 (x, y, z, w) 순서로 재정렬\n",
    "quat_xyzw = [quat_wxyz[1], quat_wxyz[2], quat_wxyz[3], quat_wxyz[0]]\n",
    "\n",
    "# 결과 출력\n",
    "print(\"Position (t):\")\n",
    "print(f\"x = {t[0]:.3f}, y = {t[1]:.3f}, z = {t[2]:.3f}\")\n",
    "\n",
    "print(\"\\nQuaternion (x, y, z, w):\")\n",
    "print(f\"x = {quat_xyzw[0]:.4f}\")\n",
    "print(f\"y = {quat_xyzw[1]:.4f}\")\n",
    "print(f\"z = {quat_xyzw[2]:.4f}\")\n",
    "print(f\"w = {quat_xyzw[3]:.4f}\")\n"
   ]
  },
  {
   "cell_type": "code",
   "execution_count": 4,
   "id": "aff926c5",
   "metadata": {},
   "outputs": [],
   "source": [
    "R = np.array([\n",
    "    [0, -1, 0],\n",
    "    [1,  0, 0],\n",
    "    [0,  0, 1]\n",
    "])\n",
    "t = np.array([0.1, 0.2, 0.3])"
   ]
  },
  {
   "cell_type": "code",
   "execution_count": 5,
   "id": "3b17ec97",
   "metadata": {},
   "outputs": [
    {
     "name": "stdout",
     "output_type": "stream",
     "text": [
      "[0.0, 0.0, 0.7071067811865475, 0.7071067811865475]\n"
     ]
    }
   ],
   "source": [
    "# 회전행렬 → 쿼터니언 변환 (w, x, y, z 순서)\n",
    "quat_wxyz = transforms3d.quaternions.mat2quat(R)\n",
    "quat_xyzw = [quat_wxyz[1], quat_wxyz[2], quat_wxyz[3], quat_wxyz[0]] \n",
    "print(quat_xyzw)\n",
    "# publish_pose(t, quat_xyzw) apriltag에서 publish 하는 값\n"
   ]
  },
  {
   "cell_type": "code",
   "execution_count": 7,
   "id": "4d33b964",
   "metadata": {},
   "outputs": [
    {
     "data": {
      "text/plain": [
       "array([0.70710678, 0.        , 0.        , 0.70710678])"
      ]
     },
     "execution_count": 7,
     "metadata": {},
     "output_type": "execute_result"
    }
   ],
   "source": [
    "quat_wxyz"
   ]
  },
  {
   "cell_type": "code",
   "execution_count": 8,
   "id": "9f56d620",
   "metadata": {},
   "outputs": [
    {
     "name": "stdout",
     "output_type": "stream",
     "text": [
      "[[ 0. -1.  0.]\n",
      " [ 1.  0.  0.]\n",
      " [ 0.  0.  1.]]\n"
     ]
    }
   ],
   "source": [
    "# Pose → 위치/회전행렬\n",
    "position = t\n",
    "# 쿼터니언 (x, y, z, w) → 회전행렬\n",
    "quat_wxyz \n",
    "rot = transforms3d.quaternions.quat2mat(quat_wxyz)\n",
    "print(rot)"
   ]
  },
  {
   "cell_type": "code",
   "execution_count": null,
   "id": "c188868c",
   "metadata": {},
   "outputs": [],
   "source": [
    "# IKPy 역기구학\n",
    "angles = chain.inverse_kinematics(\n",
    "    position,\n",
    "    target_orientation=rot, \n",
    ")"
   ]
  },
  {
   "cell_type": "code",
   "execution_count": null,
   "id": "dd0ea07d",
   "metadata": {},
   "outputs": [
    {
     "name": "stdout",
     "output_type": "stream",
     "text": [
      "최종 위치 (g_base → tag36h11:4): [ 0.75031561 -0.09934536  0.41137054]\n",
      "최종 쿼터니언 (g_base → tag36h11:4): [-0.34891859  0.66940542  0.21456834 -0.61976821]\n"
     ]
    }
   ],
   "source": [
    "import numpy as np\n",
    "from scipy.spatial.transform import Rotation as R\n",
    "\n",
    "# 프레임 연결 순서 정의\n",
    "CHAIN = [\n",
    "    # ('g_base', 'link1'),\n",
    "    ('link1', 'link2'),\n",
    "    ('link2', 'link3'),\n",
    "    ('link3', 'link4'),\n",
    "    ('link4', 'link5'),\n",
    "    ('link5', 'link6'),\n",
    "    ('link6', 'link6_flange'),\n",
    "    # ('link6_flange', 'jetcocam'),\n",
    "    ('jetcocam', 'tag36h11:4')\n",
    "]\n",
    "\n",
    "# 각 변환 정보 (translation, quaternion)\n",
    "tf_dict = {\n",
    "    ('g_base', 'link1'): (np.array([0.0, 0.0, 0.0]), np.array([0.0, 0.0, 0.0, 1.0])),\n",
    "    ('link1', 'link2'): (np.array([0.0, 0.0, 0.13156]), np.array([0.0, 0.0, 0.0, 1.0])),\n",
    "    ('link2', 'link3'): (np.array([0.0, 0.0, 0.0]), np.array([0.5000018366025517, 0.4999999999966269, -0.4999999999966269, 0.49999816339744835])),\n",
    "    ('link3', 'link4'): (np.array([-0.1104, 0.0, 0.0]), np.array([0.0, 0.0, 0.0, 1.0])),\n",
    "    ('link4', 'link5'): (np.array([-0.096, 0.0, 0.06462]), np.array([0.0, 0.0, -0.7071080798594737, 0.7071054825112364])),\n",
    "    ('link5', 'link6'): (np.array([0.0, -0.07318, 0.0]), np.array([0.4999999999966269, -0.4999999999966269, 0.5000018366025517, 0.49999816339744835])),\n",
    "    ('link6', 'link6_flange'): (np.array([0.0, 0.0456, 0.0]), np.array([-0.7071080798594738, 0.0, 0.0, 0.7071054825112363])),\n",
    "    # 아래 변환이 누락된 경우 단위 변환(Identity)로 가정\n",
    "    ('link6_flange', 'jetcocam'): (np.array([0.0, 0.0, 0.0]), np.array([0.0, 0.0, 0.0, 1.0])),\n",
    "    ('jetcocam', 'tag36h11:4'): (np.array([0.03472433263398279, -0.00023349412724901148, 0.7047155805245154]),\n",
    "                                 np.array([0.9263294433436424, -0.36284512666426993, 0.042356020613716655, -0.0919953475368079]))\n",
    "}\n",
    "\n",
    "# 누적 변환 계산\n",
    "T = np.eye(4)\n",
    "for parent, child in CHAIN:\n",
    "    t, q = tf_dict[(parent, child)]\n",
    "    T_i = np.eye(4)\n",
    "    T_i[:3, :3] = R.from_quat(q).as_matrix()\n",
    "    T_i[:3, 3] = t\n",
    "    T = T @ T_i\n",
    "\n",
    "# 최종 위치(pos)와 쿼터니언(quat) 추출\n",
    "pos = T[:3, 3]\n",
    "quat = R.from_matrix(T[:3, :3]).as_quat()\n",
    "\n",
    "print('최종 위치 (g_base → tag36h11:4):', pos)\n",
    "print('최종 쿼터니언 (g_base → tag36h11:4):', quat)\n"
   ]
  },
  {
   "cell_type": "code",
   "execution_count": 12,
   "id": "36da5d8a",
   "metadata": {},
   "outputs": [
    {
     "name": "stdout",
     "output_type": "stream",
     "text": [
      "최종 위치 (map → tag36h11:4): [ 0.78468758 -0.11918998  0.41659849]\n",
      "최종 쿼터니언 (map → tag36h11:4): [ 0.55976626 -0.53343611 -0.45475278  0.44193616]\n"
     ]
    }
   ],
   "source": [
    "import numpy as np\n",
    "from scipy.spatial.transform import Rotation as R\n",
    "\n",
    "# 프레임 연결 순서 정의\n",
    "CHAIN = [\n",
    "    # ('map', 'g_base'),0\n",
    "    ('g_base', 'link1'),\n",
    "    ('link1', 'link2'),\n",
    "    ('link2', 'link3'),\n",
    "    ('link3', 'link4'),\n",
    "    ('link4', 'link5'),\n",
    "    ('link5', 'link6'),\n",
    "    ('link6', 'link6_flange'),\n",
    "    ('link6_flange', 'gripper_base'),\n",
    "    ('gripper_base', 'jetcocam'),\n",
    "    ('jetcocam', 'tag36h11:4')\n",
    "]\n",
    "\n",
    "# 각 변환 정보 (translation, quaternion)\n",
    "tf_dict = {\n",
    "    ('map', 'g_base'): (np.array([0.0, 0.0, 0.0]), np.array([0.0, 0.0, 0.0, 1.0])),\n",
    "    ('g_base', 'link1'): (np.array([0.0, 0.0, 0.0]), np.array([0.0, 0.0, 0.0, 1.0])),\n",
    "    ('link1', 'link2'): (np.array([0.0, 0.0, 0.13156]), np.array([0.0, 0.0, 0.0, 1.0])),\n",
    "    ('link2', 'link3'): (np.array([0.0, 0.0, 0.0]), np.array([0.5000018366025517, 0.4999999999966269, -0.4999999999966269, 0.49999816339744835])),\n",
    "    ('link3', 'link4'): (np.array([-0.1104, 0.0, 0.0]), np.array([0.0, 0.0, 0.0, 1.0])),\n",
    "    ('link4', 'link5'): (np.array([-0.096, 0.0, 0.06462]), np.array([0.0, 0.0, -0.7071080798594737, 0.7071054825112364])),\n",
    "    ('link5', 'link6'): (np.array([0.0, -0.07318, 0.0]), np.array([0.4999999999966269, -0.4999999999966269, 0.5000018366025517, 0.49999816339744835])),\n",
    "    ('link6', 'link6_flange'): (np.array([0.0, 0.0456, 0.0]), np.array([-0.7071080798594738, 0.0, 0.0, 0.7071054825112363])),\n",
    "    ('link6_flange', 'gripper_base'): (np.array([0.0, 0.0, 0.034]), np.array([-0.2717039124397632, 0.65595638159753, 0.6505970827175301, -0.269484035456352])),\n",
    "    ('gripper_base', 'jetcocam'): (np.array([0.0, 0.0, -0.048]), np.array([2.597353007557415e-06, 0.707105482506466, 0.7071080798547033, -2.5973434669646147e-06])),\n",
    "    ('jetcocam', 'tag36h11:4'): (np.array([0.03472433263398279, -0.00023349412724901148, 0.7047155805245154]), np.array([0.9263294433436424, -0.36284512666426993, 0.042356020613716655, -0.0919953475368079]))\n",
    "}\n",
    "\n",
    "# 누적 변환 계산\n",
    "T = np.eye(4)\n",
    "for parent, child in CHAIN:\n",
    "    t, q = tf_dict[(parent, child)]\n",
    "    T_i = np.eye(4)\n",
    "    T_i[:3, :3] = R.from_quat(q).as_matrix()\n",
    "    T_i[:3, 3] = t\n",
    "    T = T @ T_i\n",
    "\n",
    "# 최종 위치(pos)와 쿼터니언(quat) 추출\n",
    "pos = T[:3, 3]\n",
    "quat = R.from_matrix(T[:3, :3]).as_quat()\n",
    "\n",
    "print('최종 위치 (map → tag36h11:4):', pos)\n",
    "print('최종 쿼터니언 (map → tag36h11:4):', quat)\n"
   ]
  }
 ],
 "metadata": {
  "kernelspec": {
   "display_name": "Python 3",
   "language": "python",
   "name": "python3"
  },
  "language_info": {
   "codemirror_mode": {
    "name": "ipython",
    "version": 3
   },
   "file_extension": ".py",
   "mimetype": "text/x-python",
   "name": "python",
   "nbconvert_exporter": "python",
   "pygments_lexer": "ipython3",
   "version": "3.12.3"
  }
 },
 "nbformat": 4,
 "nbformat_minor": 5
}
