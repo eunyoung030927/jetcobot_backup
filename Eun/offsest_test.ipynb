{
 "cells": [
  {
   "cell_type": "code",
   "execution_count": 1,
   "id": "56636098",
   "metadata": {},
   "outputs": [],
   "source": [
    "import numpy as np\n",
    "import rclpy\n",
    "from rclpy.node import Node\n",
    "from sensor_msgs.msg import JointState\n",
    "from ikpy.chain import Chain\n",
    "from scipy.spatial.transform import Rotation as R\n",
    "from geometry_msgs.msg import PoseStamped, TransformStamped\n",
    "import tf2_ros\n",
    "import time\n",
    "from pymycobot.mycobot import MyCobot\n",
    "import math"
   ]
  },
  {
   "cell_type": "code",
   "execution_count": 3,
   "id": "c9d7c634",
   "metadata": {},
   "outputs": [
    {
     "name": "stdout",
     "output_type": "stream",
     "text": [
      "초기 pos: [0.31127507, -0.11197324, 0.36560894]\n",
      "계산한 tcp 오프셋: [-0.00135  0.08982  0.00567]\n",
      "오프셋 적용된 pos: [ 0.31262507 -0.20179324  0.35993894]\n"
     ]
    }
   ],
   "source": [
    "# 원하는 Pose와 회전행렬 정의\n",
    "pos = [0.31127507, -0.11197324,  0.36560894]\n",
    "\n",
    "rot_mat = np.array([\n",
    "    [-0.015,  0.375, -0.927],\n",
    "    [ 0.998,  0.064,  0.010],\n",
    "    [ 0.063, -0.925, -0.375]\n",
    "])\n",
    "\n",
    "# tcp를 태그까지 보내기 위해 오프셋 설정\n",
    "tcp_offset = np.array([0.09, 0.0, 0.0])  # z축으로 11cm 앞으로 이동\n",
    "print(\"초기 pos:\", pos)\n",
    "pos = np.array(pos)\n",
    "\n",
    "print(f\"계산한 tcp 오프셋: {rot_mat @ tcp_offset}\")\n",
    "pos -= rot_mat @ tcp_offset  # 회전행렬을 이용해 오프셋 적용\n",
    "print(\"오프셋 적용된 pos:\", pos)"
   ]
  },
  {
   "cell_type": "code",
   "execution_count": 3,
   "id": "b7c19398",
   "metadata": {},
   "outputs": [],
   "source": [
    "# 조인트 이름 정의\n",
    "joint_names = [\n",
    "            \"link2_to_link1\", \"link3_to_link2\", \"link4_to_link3\",\n",
    "            \"link5_to_link4\", \"link6_to_link5\", \"link6output_to_link6\"\n",
    "        ]"
   ]
  },
  {
   "cell_type": "code",
   "execution_count": 4,
   "id": "b8562e03",
   "metadata": {},
   "outputs": [
    {
     "name": "stderr",
     "output_type": "stream",
     "text": [
      "/home/jetcobot/.local/lib/python3.12/site-packages/ikpy/urdf/URDF.py:261: UserWarning: Joint g_base_to_link1 is of type: fixed, but has an 'axis' attribute defined. This is not in the URDF spec and thus this axis is ignored\n",
      "  warnings.warn(\"Joint {} is of type: fixed, but has an 'axis' attribute defined. This is not in the URDF spec and thus this axis is ignored\".format(joint.attrib[\"name\"]))\n",
      "/home/jetcobot/.local/lib/python3.12/site-packages/ikpy/chain.py:60: UserWarning: Link Base link (index: 0) is of type 'fixed' but set as active in the active_links_mask. In practice, this fixed link doesn't provide any transformation so is as it were inactive\n",
      "  warnings.warn(\"Link {} (index: {}) is of type 'fixed' but set as active in the active_links_mask. In practice, this fixed link doesn't provide any transformation so is as it were inactive\".format(link.name, link_index))\n",
      "/home/jetcobot/.local/lib/python3.12/site-packages/ikpy/chain.py:60: UserWarning: Link g_base_to_link1 (index: 1) is of type 'fixed' but set as active in the active_links_mask. In practice, this fixed link doesn't provide any transformation so is as it were inactive\n",
      "  warnings.warn(\"Link {} (index: {}) is of type 'fixed' but set as active in the active_links_mask. In practice, this fixed link doesn't provide any transformation so is as it were inactive\".format(link.name, link_index))\n",
      "/home/jetcobot/.local/lib/python3.12/site-packages/ikpy/chain.py:60: UserWarning: Link link6output_to_gripper_base (index: 8) is of type 'fixed' but set as active in the active_links_mask. In practice, this fixed link doesn't provide any transformation so is as it were inactive\n",
      "  warnings.warn(\"Link {} (index: {}) is of type 'fixed' but set as active in the active_links_mask. In practice, this fixed link doesn't provide any transformation so is as it were inactive\".format(link.name, link_index))\n",
      "/home/jetcobot/.local/lib/python3.12/site-packages/ikpy/chain.py:60: UserWarning: Link gripper_base_to_jetcocam (index: 9) is of type 'fixed' but set as active in the active_links_mask. In practice, this fixed link doesn't provide any transformation so is as it were inactive\n",
      "  warnings.warn(\"Link {} (index: {}) is of type 'fixed' but set as active in the active_links_mask. In practice, this fixed link doesn't provide any transformation so is as it were inactive\".format(link.name, link_index))\n"
     ]
    }
   ],
   "source": [
    "# URDF 경로 및 체인 생성\n",
    "URDF_PATH = \"/home/jetcobot/silver_ws/src/jetcobot_movetag/urdf/mycobot_280_m5/mycobot_280m5_with_gripper_parallel.urdf\"\n",
    "chain = Chain.from_urdf_file(URDF_PATH, base_elements=[\"g_base\"])"
   ]
  },
  {
   "cell_type": "code",
   "execution_count": 5,
   "id": "712e073e",
   "metadata": {},
   "outputs": [
    {
     "data": {
      "text/plain": [
       "Kinematic chain name=chain links=['Base link', 'g_base_to_link1', 'link2_to_link1', 'link3_to_link2', 'link4_to_link3', 'link5_to_link4', 'link6_to_link5', 'link6output_to_link6', 'link6output_to_gripper_base', 'gripper_base_to_jetcocam'] active_links=[ True  True  True  True  True  True  True  True  True  True]"
      ]
     },
     "execution_count": 5,
     "metadata": {},
     "output_type": "execute_result"
    }
   ],
   "source": [
    "chain"
   ]
  },
  {
   "cell_type": "code",
   "execution_count": 6,
   "id": "bf7d8ab4",
   "metadata": {},
   "outputs": [
    {
     "name": "stdout",
     "output_type": "stream",
     "text": [
      "joint_indices: [2, 3, 4, 5, 6, 7]\n",
      "URDF Base Link Name: Base link\n",
      "ikpy Chain: Kinematic chain name=chain links=['Base link', 'g_base_to_link1', 'link2_to_link1', 'link3_to_link2', 'link4_to_link3', 'link5_to_link4', 'link6_to_link5', 'link6output_to_link6', 'link6output_to_gripper_base', 'gripper_base_to_jetcocam'] active_links=[ True  True  True  True  True  True  True  True  True  True]\n"
     ]
    }
   ],
   "source": [
    "# 조인트 인덱스 찾기\n",
    "joint_indices = [idx for idx, link in enumerate(chain.links) if link.name in joint_names]\n",
    "print(\"joint_indices:\", joint_indices)\n",
    "print(\"URDF Base Link Name:\", chain.links[0].name)\n",
    "print(\"ikpy Chain:\", chain)"
   ]
  },
  {
   "cell_type": "code",
   "execution_count": 6,
   "id": "534d1e65",
   "metadata": {},
   "outputs": [
    {
     "name": "stdout",
     "output_type": "stream",
     "text": [
      "ikpy 결과(전체): [ 0.00000000e+00 -5.92928334e-01  2.26468967e-01 -9.40708247e-01\n",
      "  2.27542418e-05  5.06498123e-01 -5.72841173e-01 -7.85151475e-01\n",
      "  0.00000000e+00  0.00000000e+00]\n",
      "각 조인트 각도(radian): [0.22646896699690527, -0.9407082474659828, 2.2754241813580904e-05, 0.5064981234039198, -0.5728411727563697, -0.7851514753737463]\n"
     ]
    }
   ],
   "source": [
    "# IK 계산\n",
    "ik_result = chain.inverse_kinematics(pos, target_orientation=rot_mat)\n",
    "print(\"ikpy 결과(전체):\", ik_result)\n",
    "radian_list = [ik_result[idx] for idx in joint_indices]\n",
    "print(\"각 조인트 각도(radian):\", radian_list)"
   ]
  }
 ],
 "metadata": {
  "kernelspec": {
   "display_name": "Python 3",
   "language": "python",
   "name": "python3"
  },
  "language_info": {
   "codemirror_mode": {
    "name": "ipython",
    "version": 3
   },
   "file_extension": ".py",
   "mimetype": "text/x-python",
   "name": "python",
   "nbconvert_exporter": "python",
   "pygments_lexer": "ipython3",
   "version": "3.12.3"
  }
 },
 "nbformat": 4,
 "nbformat_minor": 5
}
